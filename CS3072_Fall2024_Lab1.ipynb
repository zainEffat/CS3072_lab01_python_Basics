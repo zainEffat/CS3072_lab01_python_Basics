{
 "cells": [
  {
   "cell_type": "markdown",
   "id": "d29f9161",
   "metadata": {},
   "source": [
    "# Lab1: Python Basics\n",
    "\n",
    "### Instructions:\n",
    "\n",
    "1- After answering all questions, Open your terminal or command prompt.\n",
    "2- Navigate to the directory where your repository is cloned.\n",
    "3- Type (git add .) to add all of your changes to the staging area."
    "4- Type (git commit -m \"Add Jupyter Notebook\") to commit your changes with a message."
    "5- Press enter"
   ]
  },
  {
   "cell_type": "markdown",
   "id": "b1dd46d4",
   "metadata": {},
   "source": [
    "#### 1. Land Calculation\n",
    "\n",
    "One acre of land is equivalent to 43,560 square feet. Write a program that asks the user to enter the total square feet in a farm of land and calculates the number of acres in the farm."
   ]
  },
  {
   "cell_type": "code",
   "execution_count": 1,
   "id": "fe91b22f",
   "metadata": {},
   "outputs": [],
   "source": [
    "# Write your answer for Q1 here\n",
    "\n"
   ]
  },
  {
   "cell_type": "markdown",
   "id": "5263220c",
   "metadata": {},
   "source": [
    "#### 2. Age Classifier\n",
    "\n",
    "Write a program that asks the user to enter a person’s age. The program should display a message indicating whether the person is an infant, a child, a teenager, or an adult. Following are the guidelines:\n",
    "\n",
    "•\tIf the person is 1 year old or less, he or she is an infant.\n",
    "•\tIf the person is older than 1 year, but younger than 13 years, he or she is a child.\n",
    "•\tIf the person is at least 13 years old, but less than 20 years old, he or she is a teenager.\n",
    "\n",
    "If the person is at least 20 years old, he or she is an adult.\n"
   ]
  },
  {
   "cell_type": "code",
   "execution_count": 2,
   "id": "b40219cf",
   "metadata": {},
   "outputs": [],
   "source": [
    "# Write your answer for Q2 Here\n",
    "\n"
   ]
  },
  {
   "cell_type": "markdown",
   "id": "e3f4bd11",
   "metadata": {},
   "source": [
    "#### 3. Software Sales\n",
    "\n",
    "A software company sells a package that retails for $99. Quantity discounts are given according to the following table:\n",
    "\n",
    "| Quantity | Discount |\n",
    "| -------- | -------- |\n",
    "| 10-19    | 10%      |\n",
    "| 20-49    | 20%      |\n",
    "| 50-99    | 30%      |\n",
    "| 100 or < | 40%      |\n",
    "\n",
    "Write a program that asks the user to enter the number of packages purchased. The program should then display the amount of the discount (if any) and the total amount of the purchase after the discount.\n"
   ]
  },
  {
   "cell_type": "code",
   "execution_count": 3,
   "id": "198ca2cb",
   "metadata": {},
   "outputs": [],
   "source": [
    "# Write your answer for Q3 Here\n"
   ]
  },
  {
   "cell_type": "markdown",
   "id": "24e7e036",
   "metadata": {},
   "source": [
    "#### 4. Stadium Seating\n",
    "\n",
    "There are three seating categories at a stadium. Class A seats cost $20, Class B seats cost $15, and Class C seats cost $10. Write a program that asks how many tickets for each class of seats were sold, then calls a function that displays the amount of income generated from ticket sales."
   ]
  },
  {
   "cell_type": "code",
   "execution_count": 4,
   "id": "c03fc65f",
   "metadata": {},
   "outputs": [],
   "source": [
    "# Write your answer for Q4 Here\n"
   ]
  },
  {
   "cell_type": "markdown",
   "id": "66d9c7e2",
   "metadata": {},
   "source": [
    "#### 5. Bug Collector\n",
    "\n",
    "A bug collector collects bugs every day for five days. Write a program that keeps a running total of the number of bugs collected during the five days. The loop should ask for the number of bugs collected for each day, and when the loop is finished, the program should display the total number of bugs collected."
   ]
  },
  {
   "cell_type": "code",
   "execution_count": 5,
   "id": "5e95779f",
   "metadata": {},
   "outputs": [],
   "source": [
    "# Write your answer for Q5 Here\n"
   ]
  },
  {
   "cell_type": "markdown",
   "id": "0e43b096",
   "metadata": {},
   "source": [
    "#### 6. Pennies for Pay\n",
    "\n",
    "Write a program that calculates the amount of money a person would earn over a period of time if his or her salary is one penny the first day, two pennies the second day, and continues to double each day. The program should ask the user for the number of days. Display a table showing what the salary was for each day, then show the total pay at the end of the period. The output should be displayed in a dollar amount, not the number of pennies.\n"
   ]
  },
  {
   "cell_type": "code",
   "execution_count": 6,
   "id": "87b3c68b",
   "metadata": {},
   "outputs": [],
   "source": [
    "# Write your answer for Q6 Here\n"
   ]
  },
  {
   "cell_type": "markdown",
   "id": "284bdab2",
   "metadata": {},
   "source": [
    "#### 7. Calculating the Factorial of a Number\n",
    "\n",
    "In mathematics, the notation n! represents the factorial of the nonnegative integer n. The factorial of n is the product of all the nonnegative integers from 1 to n. For example,\n",
    "7! = 1 * 2 * 3 * 4 * 5 * 6 * 7 = 5,040\n",
    "and\n",
    "4! = 1 * 2 * 3 * 4 = 24\n",
    "Write a program that lets the user enter a nonnegative integer then uses a loop to calculate the factorial of that number. Display the factorial.\n"
   ]
  },
  {
   "cell_type": "code",
   "execution_count": null,
   "id": "995f8f0b",
   "metadata": {},
   "outputs": [],
   "source": [
    "# Write your answer for Q7 Here\n"
   ]
  }
 ],
 "metadata": {
  "kernelspec": {
   "display_name": "Python 3 (ipykernel)",
   "language": "python",
   "name": "python3"
  },
  "language_info": {
   "codemirror_mode": {
    "name": "ipython",
    "version": 3
   },
   "file_extension": ".py",
   "mimetype": "text/x-python",
   "name": "python",
   "nbconvert_exporter": "python",
   "pygments_lexer": "ipython3",
   "version": "3.9.13"
  }
 },
 "nbformat": 4,
 "nbformat_minor": 5
}
